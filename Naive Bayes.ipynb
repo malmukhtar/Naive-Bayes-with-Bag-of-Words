{
 "cells": [
  {
   "cell_type": "markdown",
   "metadata": {
    "id": "vWdi6iIqh8Ag"
   },
   "source": [
    "# Assignment 2 - Adrian Sandoval-Vargas, Mohamed Almukhtar\n",
    "Naive Bayes with Bag of Words"
   ]
  },
  {
   "cell_type": "markdown",
   "metadata": {
    "id": "ex8amXQeiRzM"
   },
   "source": [
    "## Import all of our libraries"
   ]
  },
  {
   "cell_type": "code",
   "execution_count": 5,
   "metadata": {
    "colab": {
     "base_uri": "https://localhost:8080/"
    },
    "executionInfo": {
     "elapsed": 4385,
     "status": "ok",
     "timestamp": 1645066945718,
     "user": {
      "displayName": "Mohamed Jummah Almukhtar Almukhtar",
      "photoUrl": "https://lh3.googleusercontent.com/a/default-user=s64",
      "userId": "18400487912673777702"
     },
     "user_tz": 300
    },
    "id": "CaVerCWLiOL8",
    "outputId": "bef1e92d-e23e-462d-83cf-b8b338db0ba3"
   },
   "outputs": [
    {
     "name": "stderr",
     "output_type": "stream",
     "text": [
      "[nltk_data] Downloading package wordnet to\n",
      "[nltk_data]     /Users/malmukhtar/nltk_data...\n",
      "[nltk_data]   Package wordnet is already up-to-date!\n",
      "[nltk_data] Downloading package punkt to\n",
      "[nltk_data]     /Users/malmukhtar/nltk_data...\n",
      "[nltk_data]   Package punkt is already up-to-date!\n",
      "[nltk_data] Downloading package stopwords to\n",
      "[nltk_data]     /Users/malmukhtar/nltk_data...\n",
      "[nltk_data]   Package stopwords is already up-to-date!\n",
      "[nltk_data] Downloading package omw-1.4 to\n",
      "[nltk_data]     /Users/malmukhtar/nltk_data...\n",
      "[nltk_data]   Unzipping corpora/omw-1.4.zip.\n"
     ]
    }
   ],
   "source": [
    "import numpy as np # Linear Algebra\n",
    "import pandas as pd # Data processing\n",
    "from wordcloud import WordCloud # Visualization\n",
    "import regex as re # Text processing\n",
    "import matplotlib.pyplot as plt # Visualization\n",
    "from textblob import Word, TextBlob # Text features\n",
    "import nltk # Text Manipulation\n",
    "nltk.download('wordnet') # Download wordnet\n",
    "nltk.download('punkt') # Download punkt\n",
    "nltk.download(\"stopwords\") # Download Stopwords\n",
    "nltk.download(\"omw-1.4\")  # Download omw-1.4\n",
    "from nltk.corpus import words as dict_words #contains english word dictionary\n",
    "from nltk.corpus import stopwords #contains stop words\n",
    "from sklearn.model_selection import train_test_split # split out data into training and testing sets"
   ]
  },
  {
   "cell_type": "markdown",
   "metadata": {
    "id": "sKFwtcadijLL"
   },
   "source": [
    "## Data Preprocessing\n",
    "* Read Dataset\n",
    "* Perform text manipulation\n",
    "\n",
    "\n"
   ]
  },
  {
   "cell_type": "code",
   "execution_count": 2,
   "metadata": {
    "executionInfo": {
     "elapsed": 256,
     "status": "ok",
     "timestamp": 1645066959192,
     "user": {
      "displayName": "Mohamed Jummah Almukhtar Almukhtar",
      "photoUrl": "https://lh3.googleusercontent.com/a/default-user=s64",
      "userId": "18400487912673777702"
     },
     "user_tz": 300
    },
    "id": "GPXUPRz9i1_x"
   },
   "outputs": [],
   "source": [
    "original_data_frame = pd.read_csv(\"data/tweet_emotions.csv\")\n",
    "# Make a copy of the dataframe for manipulation\n",
    "data = original_data_frame.copy()\n",
    "data.drop(\"tweet_id\", axis=1, inplace=True); # Drop the tweet_id as it is irrelevant\n",
    "data = data[data['sentiment'].isin(['happiness','sadness'])].reset_index(drop=True) # Reset the indexes"
   ]
  },
  {
   "cell_type": "markdown",
   "metadata": {
    "id": "Yyz8J-pMi4J3"
   },
   "source": [
    "### Helper Functions"
   ]
  },
  {
   "cell_type": "code",
   "execution_count": 3,
   "metadata": {
    "executionInfo": {
     "elapsed": 236,
     "status": "ok",
     "timestamp": 1645066962329,
     "user": {
      "displayName": "Mohamed Jummah Almukhtar Almukhtar",
      "photoUrl": "https://lh3.googleusercontent.com/a/default-user=s64",
      "userId": "18400487912673777702"
     },
     "user_tz": 300
    },
    "id": "4yBUyh-vjBhR"
   },
   "outputs": [],
   "source": [
    "def remove_unwanted_text(content):\n",
    "  '''\n",
    "  Removes unwanted text from content using regex\n",
    "  Input\n",
    "  content: A string\n",
    "  Output\n",
    "  final: the final parsed string\n",
    "  '''\n",
    "  handle = re.sub('@[^\\s]+', '', content)\n",
    "  link = re.sub('http[^\\s]+', '', handle)\n",
    "  link = re.sub('www[^\\s]+', '', link)\n",
    "  ht = re.sub('#[^\\s]+', '', link)\n",
    "  final = re.sub('&[^\\s]+', '', ht)\n",
    "  #final = re.sub('[\\d]', '', ht)\n",
    "  return final\n",
    "\n",
    "def stem(words):\n",
    "  '''\n",
    "  Input\n",
    "  words: words to be processed\n",
    "  Output\n",
    "  returns array of stemmed words\n",
    "  '''\n",
    "  tb = TextBlob(' '.join(words))\n",
    "  return [w for w in tb.words.stem()]\n",
    "\n",
    "def lemmatize(words):\n",
    "  '''\n",
    "  Input\n",
    "  words: words to be processed\n",
    "  Output\n",
    "  returns array of lemmatized words\n",
    "  '''\n",
    "  tb = TextBlob(' '.join(words))\n",
    "  return [w for w in tb.words.lemmatize()]\n",
    "\n",
    "def correct_words(words):\n",
    "  '''\n",
    "  Corrects a word using TextBlob\n",
    "  Input\n",
    "  words: a list of words\n",
    "  Output\n",
    "  returns corrected words\n",
    "  '''\n",
    "  return [Word(w).correct() for w in words]\n",
    "    \n",
    "def word_frequency(text):\n",
    "  '''\n",
    "  Counts the words in a dataframe\n",
    "  Input\n",
    "  text: text to be counted\n",
    "  Output\n",
    "  word frequecy in text\n",
    "  '''\n",
    "  tb = TextBlob(text)\n",
    "  return tb.word_counts\n",
    "\n",
    "def remove_punctuations(words):\n",
    "  '''\n",
    "  Input\n",
    "  words: A list of words to be processed\n",
    "  Output\n",
    "  returns a list of words that punctuations and numbers have been removed. \n",
    "  '''\n",
    "  new_words = []\n",
    "  for w in words:\n",
    "      l = re.sub('[^A-Za-z ]+', '', w)\n",
    "      if l != '':\n",
    "          new_words.append(l)\n",
    "          \n",
    "  return new_words\n",
    "\n",
    "def remove_stop_words(words):\n",
    "  '''\n",
    "  Input\n",
    "  words: Words to be processed\n",
    "  Output\n",
    "  returns a list of words without english stopwords\n",
    "  '''\n",
    "  sw = stopwords.words(\"english\") # English Stop Words\n",
    "  sw.append('could') # should be in sw since wouldn't and couldn't are in (lemmatization or stem don't convert)\n",
    "  sw.append('would') # should be in sw since wouldn't and couldn't are in (lemmatization or stem don't convert)\n",
    "  sw.append('nt') # nt appears a lot\n",
    "  sw.append('im') # im appears a lot\n",
    "  sw = remove_punctuations(sw)\n",
    "\n",
    "  return [w for w in words if w.lower() not in sw]\n",
    "\n",
    "def clean_data(content):\n",
    "  '''\n",
    "  Cleans the incoming data\n",
    "  Input\n",
    "  content: a dataframe series\n",
    "  '''\n",
    "  for i in range(len(content)):\n",
    "      tweet = remove_unwanted_text(content[i].lower())\n",
    "      tb = TextBlob(tweet)\n",
    "      words = remove_punctuations(tb.words)\n",
    "      words = remove_stop_words(words)\n",
    "\n",
    "      lemmatized_words = lemmatize(words) # for the most part this was good\n",
    "      words = [w for w in lemmatized_words if len(w)>1] # removes any character of len 1 usually a \"u\" or \"n\"\n",
    "      data.loc[i, 'content'] = \" \".join(words)\n",
    "\n",
    "def get_array(text):\n",
    "  '''\n",
    "  Returns the text into an array format\n",
    "  '''\n",
    "  return text.split(\" \")      \n",
    "\n",
    "def get_entire_text(content):\n",
    "  '''\n",
    "  Return the entire text in a dataframe series\n",
    "  '''\n",
    "  entire_text = \"\"\n",
    "  for i in content:\n",
    "      entire_text += i + \" \"\n",
    "  return entire_text\n",
    "\n",
    "def display_top_words(wf, k=20):\n",
    "    '''\n",
    "    Displays the top words in a data set\n",
    "    Input\n",
    "    k: Number of top words to display. Defaults to 20.\n",
    "    Output displays top [k] values\n",
    "    '''\n",
    "    wf_sorted = sorted(wf.items(), key=lambda x: x[1], reverse=True)\n",
    "    wf_sorted_greater_than_1 = [w for w in wf_sorted if w[1] > 1]\n",
    "    top = wf_sorted_greater_than_1[:k:]\n",
    "    x = [x[0] for x in top]\n",
    "    y = [y[1] for y in top]\n",
    "    %matplotlib inline\n",
    "    plt.figure(figsize=(20,10))\n",
    "    plt.bar(x, y)\n",
    "    plt.xticks(rotation=45)\n",
    "    plt.show()\n",
    "\n",
    "def display_wordcloud(words):\n",
    "    '''\n",
    "    Displays wordcloud\n",
    "    '''\n",
    "    wc = WordCloud()\n",
    "    wc.generate(words)\n",
    "    %matplotlib inline \n",
    "    plt.imshow(wc)"
   ]
  },
  {
   "cell_type": "markdown",
   "metadata": {
    "id": "tu2RXh5HhT5o"
   },
   "source": [
    "## Cleaning "
   ]
  },
  {
   "cell_type": "code",
   "execution_count": 6,
   "metadata": {
    "executionInfo": {
     "elapsed": 24720,
     "status": "ok",
     "timestamp": 1645066991475,
     "user": {
      "displayName": "Mohamed Jummah Almukhtar Almukhtar",
      "photoUrl": "https://lh3.googleusercontent.com/a/default-user=s64",
      "userId": "18400487912673777702"
     },
     "user_tz": 300
    },
    "id": "QdNoD87rhQis"
   },
   "outputs": [],
   "source": [
    "\n",
    "clean_data(data['content']) # cleans the data\n",
    "text = get_entire_text(data['content'])\n",
    "wf = word_frequency(text) # Word Frequency "
   ]
  },
  {
   "cell_type": "markdown",
   "metadata": {
    "id": "PKENbnUXjeEZ"
   },
   "source": [
    "### Visuals"
   ]
  },
  {
   "cell_type": "markdown",
   "metadata": {
    "id": "2lNxhJYrjmEo"
   },
   "source": [
    "Displays a word cloud of the data"
   ]
  },
  {
   "cell_type": "code",
   "execution_count": 7,
   "metadata": {
    "colab": {
     "base_uri": "https://localhost:8080/",
     "height": 219
    },
    "executionInfo": {
     "elapsed": 1548,
     "status": "ok",
     "timestamp": 1645066993020,
     "user": {
      "displayName": "Mohamed Jummah Almukhtar Almukhtar",
      "photoUrl": "https://lh3.googleusercontent.com/a/default-user=s64",
      "userId": "18400487912673777702"
     },
     "user_tz": 300
    },
    "id": "tiSVGq4Mjf2E",
    "outputId": "f62b4fa3-e956-4c78-d4a8-36baabdde73b"
   },
   "outputs": [
    {
     "data": {
      "image/png": "[encoded data removed]",
      "text/plain": [
       "<Figure size 432x288 with 1 Axes>"
      ]
     },
     "metadata": {
      "needs_background": "light"
     },
     "output_type": "display_data"
    }
   ],
   "source": [
    "display_wordcloud(text)"
   ]
  },
  {
   "cell_type": "markdown",
   "metadata": {
    "id": "fYPlMH1Rjrg0"
   },
   "source": [
    "Displays top 20 words in the data"
   ]
  },
  {
   "cell_type": "code",
   "execution_count": 8,
   "metadata": {
    "colab": {
     "base_uri": "https://localhost:8080/",
     "height": 610
    },
    "executionInfo": {
     "elapsed": 276,
     "status": "ok",
     "timestamp": 1645066993292,
     "user": {
      "displayName": "Mohamed Jummah Almukhtar Almukhtar",
      "photoUrl": "https://lh3.googleusercontent.com/a/default-user=s64",
      "userId": "18400487912673777702"
     },
     "user_tz": 300
    },
    "id": "V5Yy4ybSjv17",
    "outputId": "6964738c-7ea0-4445-bced-e6ae509dc443"
   },
   "outputs": [
    {
     "data": {
      "image/png": "[encoded data removed]",
      "text/plain": [
       "<Figure size 1440x720 with 1 Axes>"
      ]
     },
     "metadata": {
      "needs_background": "light"
     },
     "output_type": "display_data"
    }
   ],
   "source": [
    "display_top_words(wf)"
   ]
  },
  {
   "cell_type": "markdown",
   "metadata": {
    "id": "LfsB3zfKkqa3"
   },
   "source": [
    "## Data Preparation\n",
    "Splits our data in to train **80%** and test **20%**"
   ]
  },
  {
   "cell_type": "code",
   "execution_count": 9,
   "metadata": {
    "executionInfo": {
     "elapsed": 165,
     "status": "ok",
     "timestamp": 1645070415948,
     "user": {
      "displayName": "Mohamed Jummah Almukhtar Almukhtar",
      "photoUrl": "https://lh3.googleusercontent.com/a/default-user=s64",
      "userId": "18400487912673777702"
     },
     "user_tz": 300
    },
    "id": "YTk8a8oqksiq"
   },
   "outputs": [],
   "source": [
    "train, test = train_test_split(data, random_state=0, test_size=0.2)"
   ]
  },
  {
   "cell_type": "markdown",
   "metadata": {
    "id": "pY8QyUs-j95Z"
   },
   "source": [
    "## Naive Bayes Model"
   ]
  },
  {
   "cell_type": "code",
   "execution_count": 10,
   "metadata": {
    "executionInfo": {
     "elapsed": 127,
     "status": "ok",
     "timestamp": 1645070419455,
     "user": {
      "displayName": "Mohamed Jummah Almukhtar Almukhtar",
      "photoUrl": "https://lh3.googleusercontent.com/a/default-user=s64",
      "userId": "18400487912673777702"
     },
     "user_tz": 300
    },
    "id": "IpeBDuDEAbE-"
   },
   "outputs": [],
   "source": [
    "def bag_of_words(data, labels, counts):\n",
    "  label_counts = data['sentiment'].value_counts().to_dict()\n",
    "  for label in labels:\n",
    "    if label in label_counts:\n",
    "      counts['labels'][label] = label_counts[label]\n",
    "\n",
    "  # Bow \n",
    "  for row in range(len(data)):\n",
    "    words  = get_array(data.iloc[row]['content'])\n",
    "    for word in words:\n",
    "          for label in labels:\n",
    "            if data.iloc[row]['sentiment'] == label:\n",
    "              if word in counts[label]:\n",
    "                counts[label][word]+=1\n",
    "              else:\n",
    "                counts[label][word]=1 \n",
    "\n",
    "          # used to calculate proabaility of each word \n",
    "          if word in counts[\"words\"].keys(): \n",
    "              counts[\"words\"][word]+=1\n",
    "          else:\n",
    "              counts[\"words\"][word]=1\n",
    "    \n",
    "  return counts"
   ]
  },
  {
   "cell_type": "markdown",
   "metadata": {
    "id": "3PJ6d3uILpi8"
   },
   "source": [
    "## Prediction function "
   ]
  },
  {
   "cell_type": "markdown",
   "metadata": {
    "id": "z0GUJLSIL-0M"
   },
   "source": [
    "Using the equation $Y^{new} = argmax(P(Y = y_k) \\prod_{i = 1}^{|W|} p(x_i|Y=y_k))$\n",
    "\n",
    "And $p(x_i|Y=y_k) = $ $\\frac{n_i+1}{n+|W|}$\n",
    "\n",
    "Where:\n",
    "* $P(Y = y_k)$ is represented by the hash table $result[label]$ prior to calculating $\\prod_{i = 1}^{|W|} p(x_i|Y=y_k))$, and the result is stored in the same hash table.\n",
    "* ${n_i}$ is represented by $counts[label][word]$, the word count for a specicfic label.\n",
    "* $n$ is represented by $sum(counts[label].values())$ where this is the number of words for a specific label.\n",
    "* ${|W|}$ is represented by $len(counts['words'].keys())$ is the count of total words in the BoW.\n",
    "\n",
    "\n",
    "\n"
   ]
  },
  {
   "cell_type": "code",
   "execution_count": 11,
   "metadata": {
    "executionInfo": {
     "elapsed": 131,
     "status": "ok",
     "timestamp": 1645070423251,
     "user": {
      "displayName": "Mohamed Jummah Almukhtar Almukhtar",
      "photoUrl": "https://lh3.googleusercontent.com/a/default-user=s64",
      "userId": "18400487912673777702"
     },
     "user_tz": 300
    },
    "id": "4XRnLR0uAkM1"
   },
   "outputs": [],
   "source": [
    "def predict(test_data, labels, counts):\n",
    "  accuracy = 0\n",
    "  label_probability = {}\n",
    "  no_labels = test_data['sentiment'].shape[0]\n",
    "  for label in labels:\n",
    "    label_probability[label] =  counts['labels'][label] / no_labels\n",
    "\n",
    "  for row in range(len(test_data)):\n",
    "      tweet = test.iloc[row]['content']\n",
    "      target = test.iloc[row]['sentiment']\n",
    "      words = get_array(tweet)\n",
    "\n",
    "      # copying the labels probability to result dict to use it for the naive bayes predection equation.\n",
    "      result = {}\n",
    "      for label in labels:\n",
    "        result[label] = label_probability[label]\n",
    "\n",
    "\n",
    "\n",
    "      # Calculating 𝑝(𝑥𝑖|𝑌=𝑦𝑘)=  (𝑛𝑖+1)/(𝑛+|𝑊|)   for all y  \n",
    "      for word in words:\n",
    "          for label in labels:\n",
    "            if word in counts[label].keys():\n",
    "              result[label] *= ((counts[label][word] + 1)/(sum(counts[label].values())+len(counts['words'].keys())))  # The representation of the equation (𝑛𝑖+1)/(𝑛+|𝑊|)\n",
    "            else:\n",
    "              result[label] *= (1/(sum(counts[label].values())+len(counts['words'].keys()))) # if the word doesn's exit we are only left with the term 1/(𝑛+|𝑊|) as 𝑛𝑖 is 0\n",
    "\n",
    "      predection = max(result, key=result.get) # argmax\n",
    "\n",
    "\n",
    "      if target == predection:\n",
    "          accuracy += 1\n",
    "\n",
    "  return(accuracy/len(test_data)*100)"
   ]
  },
  {
   "cell_type": "markdown",
   "metadata": {
    "id": "teZ4MpnjLuKk"
   },
   "source": [
    "## Variables Initialization"
   ]
  },
  {
   "cell_type": "markdown",
   "metadata": {
    "id": "99PRSHFKQHjQ"
   },
   "source": [
    "In this cell a hash table is being initialized to store all the counts that will be done during the training. The hash table was dynamically created to accept $n$ labels.\n",
    "\n",
    "**The hash table structure is as follows:**\n",
    "\n",
    "\n",
    "\n",
    "```\n",
    "counts = {\n",
    "     'count': {\n",
    "          \"total\": 0,\n",
    "          \"label1\": 0,\n",
    "          \"label2\": 0,\n",
    "          rest of the labels..\n",
    "     },\n",
    "     'words':{\n",
    "          \"word1\": 1,  => the appearance of word1 in the whole dataset\n",
    "          \"word2\": 2,\n",
    "          rest of the labels..\n",
    "     }, \n",
    "     'labels': {\n",
    "            \"label1\": 0 => total number of rows matches this label\n",
    "            \"label2\": 0 => total number of rows matches this label\n",
    "\n",
    "     }, \n",
    "     'label1' :{\n",
    "            \"word1\": 1,  => the appearance of word1 in rows matches label1\n",
    "            \"word2\": 2,  => the appearance of word2 in rows matches label1\n",
    "            etc.. \n",
    "     }, \n",
    "     'label1' :{\n",
    "            \"word1\": 1,  => the appearance of word1 in rows matches label2\n",
    "            \"word2\": 2,  => the appearance of word2 in rows matches label2\n",
    "            etc.. \n",
    "     }\n",
    "      rest of the labels..\n",
    " }\n",
    "```\n",
    "\n",
    "\n"
   ]
  },
  {
   "cell_type": "code",
   "execution_count": 12,
   "metadata": {
    "executionInfo": {
     "elapsed": 130,
     "status": "ok",
     "timestamp": 1645070427185,
     "user": {
      "displayName": "Mohamed Jummah Almukhtar Almukhtar",
      "photoUrl": "https://lh3.googleusercontent.com/a/default-user=s64",
      "userId": "18400487912673777702"
     },
     "user_tz": 300
    },
    "id": "WuyjKlG-An7X"
   },
   "outputs": [],
   "source": [
    "labels = train['sentiment'].unique()\n",
    "counts = {\"count\": {\"total\": 0}, \"words\": {}, \"labels\": {}}\n",
    "word_per_label_probability = {}\n",
    "\n",
    "for label in labels:\n",
    "  counts[\"count\"][label] = 0\n",
    "  counts[label] = {}\n",
    "  word_per_label_probability[label] = {}"
   ]
  },
  {
   "cell_type": "markdown",
   "metadata": {
    "id": "q1yYgw2sLwz1"
   },
   "source": [
    "## Train model"
   ]
  },
  {
   "cell_type": "code",
   "execution_count": 13,
   "metadata": {
    "executionInfo": {
     "elapsed": 13460,
     "status": "ok",
     "timestamp": 1645070442252,
     "user": {
      "displayName": "Mohamed Jummah Almukhtar Almukhtar",
      "photoUrl": "https://lh3.googleusercontent.com/a/default-user=s64",
      "userId": "18400487912673777702"
     },
     "user_tz": 300
    },
    "id": "Nh8mfpsIAzdx"
   },
   "outputs": [],
   "source": [
    "counts = bag_of_words(train,labels, counts)"
   ]
  },
  {
   "cell_type": "markdown",
   "metadata": {
    "id": "ssUNl9C_LxpN"
   },
   "source": [
    "## Results"
   ]
  },
  {
   "cell_type": "code",
   "execution_count": 14,
   "metadata": {
    "colab": {
     "base_uri": "https://localhost:8080/"
    },
    "executionInfo": {
     "elapsed": 2325,
     "status": "ok",
     "timestamp": 1645070446655,
     "user": {
      "displayName": "Mohamed Jummah Almukhtar Almukhtar",
      "photoUrl": "https://lh3.googleusercontent.com/a/default-user=s64",
      "userId": "18400487912673777702"
     },
     "user_tz": 300
    },
    "id": "Hd6b-TszA1jG",
    "outputId": "984a1570-cfd8-4db9-838d-468885467d97"
   },
   "outputs": [
    {
     "name": "stdout",
     "output_type": "stream",
     "text": [
      "Accuracy:\t78.17%\n"
     ]
    }
   ],
   "source": [
    "accuracy = predict(test,labels,counts)\n",
    "\n",
    "print(f\"Accuracy:\\t{accuracy:.2f}%\")"
   ]
  },
  {
   "cell_type": "markdown",
   "metadata": {
    "id": "vGpvRO-BuYrh"
   },
   "source": [
    "## Conclusion\n",
    "\n"
   ]
  },
  {
   "cell_type": "markdown",
   "metadata": {
    "id": "RLtf90zxudto"
   },
   "source": [
    "### Data"
   ]
  },
  {
   "cell_type": "markdown",
   "metadata": {
    "id": "EIgVWEcXuuCr"
   },
   "source": [
    "Tweets are generally slang language with bad spelling which affects the learning and prediction process but nonetheless with the data processing we managed to get a fair data set.\n",
    "\n",
    "Below are some scenerios we ran into."
   ]
  },
  {
   "cell_type": "markdown",
   "metadata": {},
   "source": [
    "Lemmatizing and correcting the words led to some words being fixed while others it completely changed the meaning.\n",
    "\n",
    "Original Tweet:\n",
    " \n",
    "*@tiffanylue i know  i was listenin to bad habit earlier and i started freakin at his part =[*\n",
    "\n",
    "* Lemmatized: ['know', 'listenin', 'bad', 'habit', 'earlier', 'started', 'freakin', 'part']\n",
    "* Correcting the words: ['know', 'listening', 'bad', 'habit', 'earlier', 'started', 'breaking', 'part']\n",
    "\n",
    "Original Tweet:\n",
    "\n",
    "*funeral ceremony...gloomy friday...*\n",
    "\n",
    "* Lemmatized: ['funeral', 'ceremony', 'gloomy', 'friday']\n",
    "* Stemmed: ['funer', 'ceremoni', 'gloomi', 'friday']\n",
    "* Corrected: ['finer', 'ceremony', 'gloomy', 'friday']\n",
    "\n",
    "As we can see the lemmatized was the best way to get the words to a base without much processing."
   ]
  },
  {
   "cell_type": "markdown",
   "metadata": {},
   "source": [
    "### Results\n",
    "\n",
    "We tried 13 labels from the dataset but had a low performance due to the lack of label distribution so we selected two labels with opposite sentiment which are \"happiness\" and \"sadness\". This resulted in the model performing better."
   ]
  }
 ],
 "metadata": {
  "accelerator": "TPU",
  "colab": {
   "collapsed_sections": [],
   "name": "Naive Bayes.ipynb",
   "provenance": []
  },
  "kernelspec": {
   "display_name": "Python 3 (ipykernel)",
   "language": "python",
   "name": "python3"
  },
  "language_info": {
   "codemirror_mode": {
    "name": "ipython",
    "version": 3
   },
   "file_extension": ".py",
   "mimetype": "text/x-python",
   "name": "python",
   "nbconvert_exporter": "python",
   "pygments_lexer": "ipython3",
   "version": "3.10.0"
  }
 },
 "nbformat": 4,
 "nbformat_minor": 1
}
